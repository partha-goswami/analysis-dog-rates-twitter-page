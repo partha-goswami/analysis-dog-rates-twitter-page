{
 "cells": [
  {
   "cell_type": "markdown",
   "metadata": {},
   "source": [
    "# Wrangle and Analyze Data\n",
    "\n",
    "Following is the final project for \"Wrangle & Analyze Data\" section, pertaining to \"Data Analyst\" Udacity Nano-Degree."
   ]
  },
  {
   "cell_type": "markdown",
   "metadata": {},
   "source": [
    "## Table of Contents\n",
    "1. Introduction\n",
    "2. Gathering Data\n",
    "3. Assessing Data\n",
    "4. Cleaning Data\n",
    "5. Analyzing and visualizing Data\n",
    "6. Storing, Analyzing, and Visualizing Data\n",
    "7. External Sources (if any)"
   ]
  },
  {
   "cell_type": "markdown",
   "metadata": {},
   "source": [
    "## Introduction\n",
    "\n",
    "Real-world data rarely comes clean. Using Python and its libraries, we will gather data from a variety of sources and in a variety of formats, assess its quality and tidiness, then clean it. This is called data wrangling. We will document our wrangling efforts in a Jupyter Notebook, plus showcase them through analyses and visualizations using Python (and its libraries) and/or SQL.\n",
    "\n",
    "The dataset that we will be wrangling (and analyzing and visualizing) is the tweet archive of Twitter user @dog_rates, also known as WeRateDogs. WeRateDogs is a Twitter account that rates people's dogs with a humorous comment about the dog. These ratings almost always have a denominator of 10. The numerators, though? Almost always greater than 10. 11/10, 12/10, 13/10, etc. Why? Because \"they're good dogs Brent.\" WeRateDogs has over 4 million followers and has received international media coverage.\n",
    "\n",
    "WeRateDogs downloaded their Twitter archive and sent it to Udacity via email exclusively for us to use in this project. This archive contains basic tweet data (tweet ID, timestamp, text, etc.) for all 5000+ of their tweets as they stood on August 1, 2017.\n",
    "(Collected from \"Project Overview\" section)"
   ]
  },
  {
   "cell_type": "markdown",
   "metadata": {},
   "source": [
    "## Gathering Data\n",
    "We would use \"twitter_archive_enhanced.csv\" to access \"WeRateDog\" twitter archive. We would also use tweet image predictions to see the dog breed present at each tweet. Additionally we would see the retweet count and favourite (\"like\") count as well."
   ]
  },
  {
   "cell_type": "markdown",
   "metadata": {},
   "source": [
    "### Gathering Data from Twitter Archive"
   ]
  },
  {
   "cell_type": "code",
   "execution_count": 1,
   "metadata": {},
   "outputs": [
    {
     "data": {
      "text/html": [
       "<div>\n",
       "<style scoped>\n",
       "    .dataframe tbody tr th:only-of-type {\n",
       "        vertical-align: middle;\n",
       "    }\n",
       "\n",
       "    .dataframe tbody tr th {\n",
       "        vertical-align: top;\n",
       "    }\n",
       "\n",
       "    .dataframe thead th {\n",
       "        text-align: right;\n",
       "    }\n",
       "</style>\n",
       "<table border=\"1\" class=\"dataframe\">\n",
       "  <thead>\n",
       "    <tr style=\"text-align: right;\">\n",
       "      <th></th>\n",
       "      <th>tweet_id</th>\n",
       "      <th>in_reply_to_status_id</th>\n",
       "      <th>in_reply_to_user_id</th>\n",
       "      <th>timestamp</th>\n",
       "      <th>source</th>\n",
       "      <th>text</th>\n",
       "      <th>retweeted_status_id</th>\n",
       "      <th>retweeted_status_user_id</th>\n",
       "      <th>retweeted_status_timestamp</th>\n",
       "      <th>expanded_urls</th>\n",
       "      <th>rating_numerator</th>\n",
       "      <th>rating_denominator</th>\n",
       "      <th>name</th>\n",
       "      <th>doggo</th>\n",
       "      <th>floofer</th>\n",
       "      <th>pupper</th>\n",
       "      <th>puppo</th>\n",
       "    </tr>\n",
       "  </thead>\n",
       "  <tbody>\n",
       "    <tr>\n",
       "      <th>0</th>\n",
       "      <td>892420643555336193</td>\n",
       "      <td>NaN</td>\n",
       "      <td>NaN</td>\n",
       "      <td>2017-08-01 16:23:56 +0000</td>\n",
       "      <td>&lt;a href=\"http://twitter.com/download/iphone\" r...</td>\n",
       "      <td>This is Phineas. He's a mystical boy. Only eve...</td>\n",
       "      <td>NaN</td>\n",
       "      <td>NaN</td>\n",
       "      <td>NaN</td>\n",
       "      <td>https://twitter.com/dog_rates/status/892420643...</td>\n",
       "      <td>13</td>\n",
       "      <td>10</td>\n",
       "      <td>Phineas</td>\n",
       "      <td>None</td>\n",
       "      <td>None</td>\n",
       "      <td>None</td>\n",
       "      <td>None</td>\n",
       "    </tr>\n",
       "  </tbody>\n",
       "</table>\n",
       "</div>"
      ],
      "text/plain": [
       "             tweet_id  in_reply_to_status_id  in_reply_to_user_id  \\\n",
       "0  892420643555336193                    NaN                  NaN   \n",
       "\n",
       "                   timestamp  \\\n",
       "0  2017-08-01 16:23:56 +0000   \n",
       "\n",
       "                                              source  \\\n",
       "0  <a href=\"http://twitter.com/download/iphone\" r...   \n",
       "\n",
       "                                                text  retweeted_status_id  \\\n",
       "0  This is Phineas. He's a mystical boy. Only eve...                  NaN   \n",
       "\n",
       "   retweeted_status_user_id retweeted_status_timestamp  \\\n",
       "0                       NaN                        NaN   \n",
       "\n",
       "                                       expanded_urls  rating_numerator  \\\n",
       "0  https://twitter.com/dog_rates/status/892420643...                13   \n",
       "\n",
       "   rating_denominator     name doggo floofer pupper puppo  \n",
       "0                  10  Phineas  None    None   None  None  "
      ]
     },
     "execution_count": 1,
     "metadata": {},
     "output_type": "execute_result"
    }
   ],
   "source": [
    "import numpy as np\n",
    "import pandas as pd\n",
    "import requests\n",
    "#import creds\n",
    "import json\n",
    "import time\n",
    "import tweepy\n",
    "from functools import reduce\n",
    "\n",
    "df_twitter_archive = pd.read_csv('twitter-archive-enhanced.csv')\n",
    "df_twitter_archive.head(1)"
   ]
  },
  {
   "cell_type": "markdown",
   "metadata": {},
   "source": [
    "### Gathering Tweet Image Predictions"
   ]
  },
  {
   "cell_type": "code",
   "execution_count": 2,
   "metadata": {},
   "outputs": [
    {
     "data": {
      "text/html": [
       "<div>\n",
       "<style scoped>\n",
       "    .dataframe tbody tr th:only-of-type {\n",
       "        vertical-align: middle;\n",
       "    }\n",
       "\n",
       "    .dataframe tbody tr th {\n",
       "        vertical-align: top;\n",
       "    }\n",
       "\n",
       "    .dataframe thead th {\n",
       "        text-align: right;\n",
       "    }\n",
       "</style>\n",
       "<table border=\"1\" class=\"dataframe\">\n",
       "  <thead>\n",
       "    <tr style=\"text-align: right;\">\n",
       "      <th></th>\n",
       "      <th>tweet_id</th>\n",
       "      <th>jpg_url</th>\n",
       "      <th>img_num</th>\n",
       "      <th>p1</th>\n",
       "      <th>p1_conf</th>\n",
       "      <th>p1_dog</th>\n",
       "      <th>p2</th>\n",
       "      <th>p2_conf</th>\n",
       "      <th>p2_dog</th>\n",
       "      <th>p3</th>\n",
       "      <th>p3_conf</th>\n",
       "      <th>p3_dog</th>\n",
       "    </tr>\n",
       "  </thead>\n",
       "  <tbody>\n",
       "    <tr>\n",
       "      <th>0</th>\n",
       "      <td>666020888022790149</td>\n",
       "      <td>https://pbs.twimg.com/media/CT4udn0WwAA0aMy.jpg</td>\n",
       "      <td>1</td>\n",
       "      <td>Welsh_springer_spaniel</td>\n",
       "      <td>0.465074</td>\n",
       "      <td>True</td>\n",
       "      <td>collie</td>\n",
       "      <td>0.156665</td>\n",
       "      <td>True</td>\n",
       "      <td>Shetland_sheepdog</td>\n",
       "      <td>0.061428</td>\n",
       "      <td>True</td>\n",
       "    </tr>\n",
       "  </tbody>\n",
       "</table>\n",
       "</div>"
      ],
      "text/plain": [
       "             tweet_id                                          jpg_url  \\\n",
       "0  666020888022790149  https://pbs.twimg.com/media/CT4udn0WwAA0aMy.jpg   \n",
       "\n",
       "   img_num                      p1   p1_conf  p1_dog      p2   p2_conf  \\\n",
       "0        1  Welsh_springer_spaniel  0.465074    True  collie  0.156665   \n",
       "\n",
       "   p2_dog                 p3   p3_conf  p3_dog  \n",
       "0    True  Shetland_sheepdog  0.061428    True  "
      ]
     },
     "execution_count": 2,
     "metadata": {},
     "output_type": "execute_result"
    }
   ],
   "source": [
    "url = 'https://d17h27t6h515a5.cloudfront.net/topher/2017/August/599fd2ad_image-predictions/image-predictions.tsv'\n",
    "image_request = requests.get(url, allow_redirects=True)\n",
    "open('image_predictions.tsv', 'wb').write(image_request.content)\n",
    "df_twitter_image_predictions = pd.read_csv('image_predictions.tsv', sep = '\\t')\n",
    "df_twitter_image_predictions.head(1)"
   ]
  },
  {
   "cell_type": "markdown",
   "metadata": {},
   "source": [
    "### Gather the tweets' retweet count and like count"
   ]
  },
  {
   "cell_type": "code",
   "execution_count": 3,
   "metadata": {},
   "outputs": [
    {
     "name": "stdout",
     "output_type": "stream",
     "text": [
      "Rate limit reached. Sleeping for: 733\n",
      "Rate limit reached. Sleeping for: 729\n"
     ]
    },
    {
     "data": {
      "text/html": [
       "<div>\n",
       "<style scoped>\n",
       "    .dataframe tbody tr th:only-of-type {\n",
       "        vertical-align: middle;\n",
       "    }\n",
       "\n",
       "    .dataframe tbody tr th {\n",
       "        vertical-align: top;\n",
       "    }\n",
       "\n",
       "    .dataframe thead th {\n",
       "        text-align: right;\n",
       "    }\n",
       "</style>\n",
       "<table border=\"1\" class=\"dataframe\">\n",
       "  <thead>\n",
       "    <tr style=\"text-align: right;\">\n",
       "      <th></th>\n",
       "      <th>tweet_id</th>\n",
       "      <th>favorite_count</th>\n",
       "      <th>retweet_count</th>\n",
       "    </tr>\n",
       "  </thead>\n",
       "  <tbody>\n",
       "    <tr>\n",
       "      <th>0</th>\n",
       "      <td>892420643555336193</td>\n",
       "      <td>36412</td>\n",
       "      <td>7745</td>\n",
       "    </tr>\n",
       "  </tbody>\n",
       "</table>\n",
       "</div>"
      ],
      "text/plain": [
       "             tweet_id  favorite_count  retweet_count\n",
       "0  892420643555336193           36412           7745"
      ]
     },
     "execution_count": 3,
     "metadata": {},
     "output_type": "execute_result"
    }
   ],
   "source": [
    "# Not including the keys in the submission, hence after running, replacing those with a star\n",
    "auth = tweepy.OAuthHandler('*', '*')\n",
    "auth.set_access_token('*', '*')\n",
    "api = tweepy.API(auth, parser=tweepy.parsers.JSONParser())\n",
    "\n",
    "tweet_ids = df_twitter_archive.tweet_id.values\n",
    "\n",
    "tweets_data = []\n",
    "tweet_success = []\n",
    "tweet_failure = []\n",
    "\n",
    "for tweet_id in tweet_ids:\n",
    "        try:\n",
    "            data = api.get_status(tweet_id, tweet_mode='extended', \n",
    "                                  wait_on_rate_limit = True, \n",
    "                                  wait_on_rate_limit_notify = True)\n",
    "            tweets_data.append(data)\n",
    "            tweet_success.append(tweet_id)\n",
    "        except:\n",
    "            tweet_failure.append(tweet_id)\n",
    "            \n",
    "with open('tweet_json.txt', mode = 'w') as file:\n",
    "    json.dump(tweets_data, file)\n",
    "\n",
    "df_retweet_favourite = pd.read_json('tweet_json.txt')\n",
    "df_retweet_favourite['tweet_id'] = tweet_success\n",
    "df_retweet_favourite = df_retweet_favourite[['tweet_id', 'favorite_count', 'retweet_count']]\n",
    "df_retweet_favourite.head(1)"
   ]
  },
  {
   "cell_type": "code",
   "execution_count": 7,
   "metadata": {},
   "outputs": [],
   "source": [
    "df_retweet_favourite.to_csv('retweet_favourite.csv', index = False)"
   ]
  },
  {
   "cell_type": "code",
   "execution_count": 3,
   "metadata": {},
   "outputs": [
    {
     "data": {
      "text/html": [
       "<div>\n",
       "<style scoped>\n",
       "    .dataframe tbody tr th:only-of-type {\n",
       "        vertical-align: middle;\n",
       "    }\n",
       "\n",
       "    .dataframe tbody tr th {\n",
       "        vertical-align: top;\n",
       "    }\n",
       "\n",
       "    .dataframe thead th {\n",
       "        text-align: right;\n",
       "    }\n",
       "</style>\n",
       "<table border=\"1\" class=\"dataframe\">\n",
       "  <thead>\n",
       "    <tr style=\"text-align: right;\">\n",
       "      <th></th>\n",
       "      <th>tweet_id</th>\n",
       "      <th>favorite_count</th>\n",
       "      <th>retweet_count</th>\n",
       "    </tr>\n",
       "  </thead>\n",
       "  <tbody>\n",
       "    <tr>\n",
       "      <th>0</th>\n",
       "      <td>892420643555336193</td>\n",
       "      <td>36412</td>\n",
       "      <td>7745</td>\n",
       "    </tr>\n",
       "  </tbody>\n",
       "</table>\n",
       "</div>"
      ],
      "text/plain": [
       "             tweet_id  favorite_count  retweet_count\n",
       "0  892420643555336193           36412           7745"
      ]
     },
     "execution_count": 3,
     "metadata": {},
     "output_type": "execute_result"
    }
   ],
   "source": [
    "# This extra steps are performed in order for the long running process\n",
    "# to avoid over and again\n",
    "df_retweet_favourite = pd.read_csv('retweet_favourite.csv')\n",
    "df_retweet_favourite.head(1)"
   ]
  },
  {
   "cell_type": "markdown",
   "metadata": {},
   "source": [
    "## Assessing Data"
   ]
  },
  {
   "cell_type": "markdown",
   "metadata": {},
   "source": [
    "Assessing data would assess the data quality and data tidyness issues."
   ]
  },
  {
   "cell_type": "markdown",
   "metadata": {},
   "source": [
    "### Assessing Data - Quality Issues"
   ]
  },
  {
   "cell_type": "markdown",
   "metadata": {},
   "source": [
    "Normally this would comprise of the following, (1) Data Completeness (whether we have any missing data or not), (2) Data Validity (is the data valid ?/ does the data make sense ?), (3) Data Accuracy (is wrong data been shown as valid ?), (4) Data Consistency (standarization required ?)"
   ]
  },
  {
   "cell_type": "markdown",
   "metadata": {},
   "source": [
    "### Twitter Archive - Quality Issues"
   ]
  },
  {
   "cell_type": "code",
   "execution_count": 4,
   "metadata": {},
   "outputs": [
    {
     "name": "stdout",
     "output_type": "stream",
     "text": [
      "<class 'pandas.core.frame.DataFrame'>\n",
      "RangeIndex: 2356 entries, 0 to 2355\n",
      "Data columns (total 17 columns):\n",
      "tweet_id                      2356 non-null int64\n",
      "in_reply_to_status_id         78 non-null float64\n",
      "in_reply_to_user_id           78 non-null float64\n",
      "timestamp                     2356 non-null object\n",
      "source                        2356 non-null object\n",
      "text                          2356 non-null object\n",
      "retweeted_status_id           181 non-null float64\n",
      "retweeted_status_user_id      181 non-null float64\n",
      "retweeted_status_timestamp    181 non-null object\n",
      "expanded_urls                 2297 non-null object\n",
      "rating_numerator              2356 non-null int64\n",
      "rating_denominator            2356 non-null int64\n",
      "name                          2356 non-null object\n",
      "doggo                         2356 non-null object\n",
      "floofer                       2356 non-null object\n",
      "pupper                        2356 non-null object\n",
      "puppo                         2356 non-null object\n",
      "dtypes: float64(4), int64(3), object(10)\n",
      "memory usage: 313.0+ KB\n"
     ]
    }
   ],
   "source": [
    "df_twitter_archive.info()"
   ]
  },
  {
   "cell_type": "markdown",
   "metadata": {},
   "source": [
    "#### Twitter Archive - Completeness Issues\n",
    "1. Please refer above analysis of the data frame. Twitter Archive data frame has missing data in the following columns: in_reply_to_status_id (78 not null, out of 2356), in_reply_to_user_id (78 not null, out of 2356), retweeted_status_id (181 not null, out of 2356), retweeted_status_user_id (181 not null, out of 2356), retweeted_status_timestamp (181 not null, out of 2356), expanded_urls (2297 not null, out of 2356).\n",
    "\n",
    "2. tweet_id is an integer. It is too big to be an integer."
   ]
  },
  {
   "cell_type": "code",
   "execution_count": 5,
   "metadata": {},
   "outputs": [
    {
     "data": {
      "text/plain": [
       "None          745\n",
       "a              55\n",
       "Charlie        12\n",
       "Cooper         11\n",
       "Oliver         11\n",
       "Lucy           11\n",
       "Lola           10\n",
       "Tucker         10\n",
       "Penny          10\n",
       "Winston         9\n",
       "Bo              9\n",
       "the             8\n",
       "Sadie           8\n",
       "Bailey          7\n",
       "Toby            7\n",
       "Daisy           7\n",
       "an              7\n",
       "Buddy           7\n",
       "Jack            6\n",
       "Rusty           6\n",
       "Oscar           6\n",
       "Scout           6\n",
       "Leo             6\n",
       "Milo            6\n",
       "Jax             6\n",
       "Bella           6\n",
       "Dave            6\n",
       "Stanley         6\n",
       "Koda            6\n",
       "Larry           5\n",
       "             ... \n",
       "Kevon           1\n",
       "Sandra          1\n",
       "Smiley          1\n",
       "Mo              1\n",
       "Halo            1\n",
       "Chesterson      1\n",
       "Ralphé          1\n",
       "Harry           1\n",
       "Spanky          1\n",
       "Meatball        1\n",
       "Maks            1\n",
       "Moofasa         1\n",
       "Tater           1\n",
       "Timofy          1\n",
       "Nimbus          1\n",
       "Maisey          1\n",
       "Link            1\n",
       "Tiger           1\n",
       "Lance           1\n",
       "Millie          1\n",
       "Keet            1\n",
       "Dex             1\n",
       "Luther          1\n",
       "Corey           1\n",
       "Odin            1\n",
       "Karl            1\n",
       "Strudel         1\n",
       "Rontu           1\n",
       "Brooks          1\n",
       "Sora            1\n",
       "Name: name, Length: 957, dtype: int64"
      ]
     },
     "execution_count": 5,
     "metadata": {},
     "output_type": "execute_result"
    }
   ],
   "source": [
    "df_twitter_archive.name.value_counts()"
   ]
  },
  {
   "cell_type": "markdown",
   "metadata": {},
   "source": [
    "#### Twitter Archive - Validity Issues\n",
    "1. Please refer the above analysis, dog names have invalid data such as 'none', 'a' and 'an'.\n",
    "2. The data frame contains columns like retweeted_status_id, retweeted_status_user_id and retweeted_status_timestamp. These are unnecessary columns for this data frame.  "
   ]
  },
  {
   "cell_type": "code",
   "execution_count": 14,
   "metadata": {},
   "outputs": [
    {
     "data": {
      "text/plain": [
       "12      558\n",
       "11      464\n",
       "10      461\n",
       "13      351\n",
       "9       158\n",
       "8       102\n",
       "7        55\n",
       "14       54\n",
       "5        37\n",
       "6        32\n",
       "3        19\n",
       "4        17\n",
       "1         9\n",
       "2         9\n",
       "420       2\n",
       "0         2\n",
       "15        2\n",
       "75        2\n",
       "80        1\n",
       "20        1\n",
       "24        1\n",
       "26        1\n",
       "44        1\n",
       "50        1\n",
       "60        1\n",
       "165       1\n",
       "84        1\n",
       "88        1\n",
       "144       1\n",
       "182       1\n",
       "143       1\n",
       "666       1\n",
       "960       1\n",
       "1776      1\n",
       "17        1\n",
       "27        1\n",
       "45        1\n",
       "99        1\n",
       "121       1\n",
       "204       1\n",
       "Name: rating_numerator, dtype: int64"
      ]
     },
     "execution_count": 14,
     "metadata": {},
     "output_type": "execute_result"
    }
   ],
   "source": [
    "df_twitter_archive.rating_numerator.value_counts()"
   ]
  },
  {
   "cell_type": "markdown",
   "metadata": {},
   "source": [
    "#### Twitter Archive - Accuracy Issues\n",
    "\n",
    "1. Please refer \"df_twitter_archive.info()\" as we did above. timestamp is an object there.\n",
    "2. retweeted_status_timestamp is also an object (the other retweeted statuses, like retweeted_status_id, retweeted_status_user_id are floats).\n",
    "3. The value for rating_numerator column, as we can see from the statement executed above, is going till 1776. This doesn't seem accurate."
   ]
  },
  {
   "cell_type": "code",
   "execution_count": 15,
   "metadata": {},
   "outputs": [
    {
     "data": {
      "text/plain": [
       "10     2333\n",
       "11        3\n",
       "50        3\n",
       "80        2\n",
       "20        2\n",
       "2         1\n",
       "16        1\n",
       "40        1\n",
       "70        1\n",
       "15        1\n",
       "90        1\n",
       "110       1\n",
       "120       1\n",
       "130       1\n",
       "150       1\n",
       "170       1\n",
       "7         1\n",
       "0         1\n",
       "Name: rating_denominator, dtype: int64"
      ]
     },
     "execution_count": 15,
     "metadata": {},
     "output_type": "execute_result"
    }
   ],
   "source": [
    "df_twitter_archive.rating_denominator.value_counts()"
   ]
  },
  {
   "cell_type": "code",
   "execution_count": 16,
   "metadata": {},
   "outputs": [
    {
     "data": {
      "text/plain": [
       "<a href=\"http://twitter.com/download/iphone\" rel=\"nofollow\">Twitter for iPhone</a>     2221\n",
       "<a href=\"http://vine.co\" rel=\"nofollow\">Vine - Make a Scene</a>                          91\n",
       "<a href=\"http://twitter.com\" rel=\"nofollow\">Twitter Web Client</a>                       33\n",
       "<a href=\"https://about.twitter.com/products/tweetdeck\" rel=\"nofollow\">TweetDeck</a>      11\n",
       "Name: source, dtype: int64"
      ]
     },
     "execution_count": 16,
     "metadata": {},
     "output_type": "execute_result"
    }
   ],
   "source": [
    "df_twitter_archive.source.value_counts()"
   ]
  },
  {
   "cell_type": "markdown",
   "metadata": {},
   "source": [
    "#### Twitter Archive - Consistency Issues\n",
    "\n",
    "1. As we can see from the above statement execution, rating_denominator column is having values other than 10 as well. This is inconsistent.\n",
    "2. source column still contains html tags. This is also inconsistent."
   ]
  },
  {
   "cell_type": "code",
   "execution_count": 17,
   "metadata": {},
   "outputs": [
    {
     "data": {
      "text/plain": [
       "golden_retriever             150\n",
       "Labrador_retriever           100\n",
       "Pembroke                      89\n",
       "Chihuahua                     83\n",
       "pug                           57\n",
       "chow                          44\n",
       "Samoyed                       43\n",
       "toy_poodle                    39\n",
       "Pomeranian                    38\n",
       "malamute                      30\n",
       "cocker_spaniel                30\n",
       "French_bulldog                26\n",
       "Chesapeake_Bay_retriever      23\n",
       "miniature_pinscher            23\n",
       "seat_belt                     22\n",
       "German_shepherd               20\n",
       "Siberian_husky                20\n",
       "Staffordshire_bullterrier     20\n",
       "web_site                      19\n",
       "Cardigan                      19\n",
       "Shetland_sheepdog             18\n",
       "Eskimo_dog                    18\n",
       "Maltese_dog                   18\n",
       "teddy                         18\n",
       "beagle                        18\n",
       "Rottweiler                    17\n",
       "Lakeland_terrier              17\n",
       "Shih-Tzu                      17\n",
       "kuvasz                        16\n",
       "Italian_greyhound             16\n",
       "                            ... \n",
       "mailbox                        1\n",
       "conch                          1\n",
       "electric_fan                   1\n",
       "wooden_spoon                   1\n",
       "syringe                        1\n",
       "three-toed_sloth               1\n",
       "groenendael                    1\n",
       "revolver                       1\n",
       "water_buffalo                  1\n",
       "hay                            1\n",
       "book_jacket                    1\n",
       "sea_urchin                     1\n",
       "microphone                     1\n",
       "grey_fox                       1\n",
       "ibex                           1\n",
       "cup                            1\n",
       "standard_schnauzer             1\n",
       "damselfly                      1\n",
       "African_hunting_dog            1\n",
       "pole                           1\n",
       "bee_eater                      1\n",
       "bakery                         1\n",
       "lorikeet                       1\n",
       "skunk                          1\n",
       "envelope                       1\n",
       "lion                           1\n",
       "banana                         1\n",
       "walking_stick                  1\n",
       "radio_telescope                1\n",
       "canoe                          1\n",
       "Name: p1, Length: 378, dtype: int64"
      ]
     },
     "execution_count": 17,
     "metadata": {},
     "output_type": "execute_result"
    }
   ],
   "source": [
    "df_twitter_image_predictions.p1.value_counts()"
   ]
  },
  {
   "cell_type": "code",
   "execution_count": 18,
   "metadata": {},
   "outputs": [
    {
     "data": {
      "text/plain": [
       "Labrador_retriever                104\n",
       "golden_retriever                   92\n",
       "Cardigan                           73\n",
       "Chihuahua                          44\n",
       "Pomeranian                         42\n",
       "French_bulldog                     41\n",
       "Chesapeake_Bay_retriever           41\n",
       "toy_poodle                         37\n",
       "cocker_spaniel                     34\n",
       "Siberian_husky                     33\n",
       "miniature_poodle                   33\n",
       "beagle                             28\n",
       "Eskimo_dog                         27\n",
       "collie                             27\n",
       "Pembroke                           27\n",
       "kuvasz                             26\n",
       "Italian_greyhound                  22\n",
       "Pekinese                           21\n",
       "American_Staffordshire_terrier     21\n",
       "chow                               20\n",
       "Samoyed                            20\n",
       "malinois                           20\n",
       "toy_terrier                        20\n",
       "miniature_pinscher                 20\n",
       "Boston_bull                        19\n",
       "Norwegian_elkhound                 19\n",
       "Staffordshire_bullterrier          18\n",
       "Irish_terrier                      17\n",
       "pug                                17\n",
       "kelpie                             16\n",
       "                                 ... \n",
       "Bernese_mountain_dog                1\n",
       "barracouta                          1\n",
       "coffee_mug                          1\n",
       "projectile                          1\n",
       "police_van                          1\n",
       "toucan                              1\n",
       "sliding_door                        1\n",
       "handkerchief                        1\n",
       "minibus                             1\n",
       "trench_coat                         1\n",
       "bucket                              1\n",
       "wood_rabbit                         1\n",
       "turnstile                           1\n",
       "barbershop                          1\n",
       "purse                               1\n",
       "home_theater                        1\n",
       "cliff                               1\n",
       "European_gallinule                  1\n",
       "printer                             1\n",
       "spotlight                           1\n",
       "armadillo                           1\n",
       "neck_brace                          1\n",
       "porcupine                           1\n",
       "hotdog                              1\n",
       "sandbar                             1\n",
       "canoe                               1\n",
       "red_fox                             1\n",
       "drake                               1\n",
       "pelican                             1\n",
       "boathouse                           1\n",
       "Name: p2, Length: 405, dtype: int64"
      ]
     },
     "execution_count": 18,
     "metadata": {},
     "output_type": "execute_result"
    }
   ],
   "source": [
    "df_twitter_image_predictions.p2.value_counts()"
   ]
  },
  {
   "cell_type": "code",
   "execution_count": 19,
   "metadata": {},
   "outputs": [
    {
     "data": {
      "text/plain": [
       "Labrador_retriever                79\n",
       "Chihuahua                         58\n",
       "golden_retriever                  48\n",
       "Eskimo_dog                        38\n",
       "kelpie                            35\n",
       "kuvasz                            34\n",
       "Staffordshire_bullterrier         32\n",
       "chow                              32\n",
       "beagle                            31\n",
       "cocker_spaniel                    31\n",
       "Pekinese                          29\n",
       "Pomeranian                        29\n",
       "toy_poodle                        29\n",
       "Great_Pyrenees                    27\n",
       "Pembroke                          27\n",
       "Chesapeake_Bay_retriever          27\n",
       "malamute                          26\n",
       "French_bulldog                    26\n",
       "American_Staffordshire_terrier    24\n",
       "Cardigan                          23\n",
       "pug                               23\n",
       "basenji                           21\n",
       "toy_terrier                       20\n",
       "bull_mastiff                      20\n",
       "Siberian_husky                    19\n",
       "Boston_bull                       17\n",
       "Shetland_sheepdog                 17\n",
       "Lakeland_terrier                  16\n",
       "boxer                             16\n",
       "doormat                           16\n",
       "                                  ..\n",
       "affenpinscher                      1\n",
       "panpipe                            1\n",
       "oxcart                             1\n",
       "drumstick                          1\n",
       "chain                              1\n",
       "stinkhorn                          1\n",
       "pool_table                         1\n",
       "American_black_bear                1\n",
       "mushroom                           1\n",
       "chime                              1\n",
       "French_horn                        1\n",
       "cuirass                            1\n",
       "viaduct                            1\n",
       "hammerhead                         1\n",
       "mongoose                           1\n",
       "cliff                              1\n",
       "grey_fox                           1\n",
       "valley                             1\n",
       "screen                             1\n",
       "Indian_elephant                    1\n",
       "barber_chair                       1\n",
       "lion                               1\n",
       "shovel                             1\n",
       "whiptail                           1\n",
       "mitten                             1\n",
       "plunger                            1\n",
       "restaurant                         1\n",
       "green_lizard                       1\n",
       "hare                               1\n",
       "boathouse                          1\n",
       "Name: p3, Length: 408, dtype: int64"
      ]
     },
     "execution_count": 19,
     "metadata": {},
     "output_type": "execute_result"
    }
   ],
   "source": [
    "df_twitter_image_predictions.p3.value_counts()"
   ]
  },
  {
   "cell_type": "markdown",
   "metadata": {},
   "source": [
    "### Twitter Images - Validity Issues\n",
    "\n",
    "1. As we can see from the above statement execution, \"df_twitter_image_predictions\" data frame's p1 column contains various invalid values, for example, 'seat_belt', 'envelope', 'radio_telescope', 'mailbox' etc.\n",
    "2. Similarly, p2 also contains various invalid values such as 'purse', 'boathouse' etc.\n",
    "3. Same applies for p3 column as well."
   ]
  },
  {
   "cell_type": "markdown",
   "metadata": {},
   "source": [
    "### Twitter Images - Consistency Issues\n",
    "\n",
    "1. For \"df_twitter_image_predictions\" data frame, the cases for p1 or p2 or p3 column values are not consistent. Sometimes, those are starting with capital letter, sometimes they are all in lowercase letters. While sometimes, those are written in sentence case.\n",
    "2. p1, p2 and p3 column values contain an underscore for multi-word dog breeds."
   ]
  },
  {
   "cell_type": "code",
   "execution_count": 22,
   "metadata": {},
   "outputs": [
    {
     "data": {
      "text/plain": [
       "2331"
      ]
     },
     "execution_count": 22,
     "metadata": {},
     "output_type": "execute_result"
    }
   ],
   "source": [
    "df_retweet_favourite[df_retweet_favourite.isnull()].shape[0]"
   ]
  },
  {
   "cell_type": "markdown",
   "metadata": {},
   "source": [
    "### ReTweet Favourite Collection - Completeness Issues\n",
    "\n",
    "1. As we can see from above statement execution, the data frame contains missing data."
   ]
  },
  {
   "cell_type": "code",
   "execution_count": 23,
   "metadata": {},
   "outputs": [
    {
     "data": {
      "text/plain": [
       "Index(['tweet_id', 'in_reply_to_status_id', 'in_reply_to_user_id', 'timestamp',\n",
       "       'source', 'text', 'retweeted_status_id', 'retweeted_status_user_id',\n",
       "       'retweeted_status_timestamp', 'expanded_urls', 'rating_numerator',\n",
       "       'rating_denominator', 'name', 'doggo', 'floofer', 'pupper', 'puppo'],\n",
       "      dtype='object')"
      ]
     },
     "execution_count": 23,
     "metadata": {},
     "output_type": "execute_result"
    }
   ],
   "source": [
    "df_twitter_archive.columns"
   ]
  },
  {
   "cell_type": "code",
   "execution_count": 24,
   "metadata": {},
   "outputs": [
    {
     "data": {
      "text/plain": [
       "Index(['tweet_id', 'jpg_url', 'img_num', 'p1', 'p1_conf', 'p1_dog', 'p2',\n",
       "       'p2_conf', 'p2_dog', 'p3', 'p3_conf', 'p3_dog'],\n",
       "      dtype='object')"
      ]
     },
     "execution_count": 24,
     "metadata": {},
     "output_type": "execute_result"
    }
   ],
   "source": [
    "df_twitter_image_predictions.columns"
   ]
  },
  {
   "cell_type": "code",
   "execution_count": 25,
   "metadata": {},
   "outputs": [
    {
     "data": {
      "text/plain": [
       "Index(['tweet_id', 'favorite_count', 'retweet_count'], dtype='object')"
      ]
     },
     "execution_count": 25,
     "metadata": {},
     "output_type": "execute_result"
    }
   ],
   "source": [
    "df_retweet_favourite.columns"
   ]
  },
  {
   "cell_type": "markdown",
   "metadata": {},
   "source": [
    "### Assessing Data - Tidiness Issues\n",
    "\n",
    "As part of tidiness, in each of the data frames, (1) each variable should form a column, (2) each observation should form a row and (3) each type of observational unit should form a table.\n",
    "\n",
    "As we can see, for three data frames above--\n",
    "1. In 'df_twitter_archive' data frame, the last four columns ('doggo', 'floofer', 'pupper', 'puppo') relate to the same variable.\n",
    "2. 'df_twitter_image_predictions' and 'df_retweet_favourite' look good, as each of them contains specific observational unit (image predictions and retweet/favourite tracking respectively), linked with tweet_id."
   ]
  },
  {
   "cell_type": "markdown",
   "metadata": {},
   "source": [
    "### Assessing Data - We have moved some of the internal steps performed here, to keep the notebook clean"
   ]
  },
  {
   "cell_type": "code",
   "execution_count": 4,
   "metadata": {},
   "outputs": [
    {
     "data": {
      "text/html": [
       "<div>\n",
       "<style scoped>\n",
       "    .dataframe tbody tr th:only-of-type {\n",
       "        vertical-align: middle;\n",
       "    }\n",
       "\n",
       "    .dataframe tbody tr th {\n",
       "        vertical-align: top;\n",
       "    }\n",
       "\n",
       "    .dataframe thead th {\n",
       "        text-align: right;\n",
       "    }\n",
       "</style>\n",
       "<table border=\"1\" class=\"dataframe\">\n",
       "  <thead>\n",
       "    <tr style=\"text-align: right;\">\n",
       "      <th></th>\n",
       "      <th>tweet_id</th>\n",
       "      <th>in_reply_to_status_id</th>\n",
       "      <th>in_reply_to_user_id</th>\n",
       "      <th>timestamp</th>\n",
       "      <th>source</th>\n",
       "      <th>text</th>\n",
       "      <th>retweeted_status_id</th>\n",
       "      <th>retweeted_status_user_id</th>\n",
       "      <th>retweeted_status_timestamp</th>\n",
       "      <th>expanded_urls</th>\n",
       "      <th>rating_numerator</th>\n",
       "      <th>rating_denominator</th>\n",
       "      <th>name</th>\n",
       "      <th>doggo</th>\n",
       "      <th>floofer</th>\n",
       "      <th>pupper</th>\n",
       "      <th>puppo</th>\n",
       "    </tr>\n",
       "  </thead>\n",
       "  <tbody>\n",
       "  </tbody>\n",
       "</table>\n",
       "</div>"
      ],
      "text/plain": [
       "Empty DataFrame\n",
       "Columns: [tweet_id, in_reply_to_status_id, in_reply_to_user_id, timestamp, source, text, retweeted_status_id, retweeted_status_user_id, retweeted_status_timestamp, expanded_urls, rating_numerator, rating_denominator, name, doggo, floofer, pupper, puppo]\n",
       "Index: []"
      ]
     },
     "execution_count": 4,
     "metadata": {},
     "output_type": "execute_result"
    }
   ],
   "source": [
    "# Tweet Ids are not duplicated at archive\n",
    "df_twitter_archive[df_twitter_archive.tweet_id.duplicated()]"
   ]
  },
  {
   "cell_type": "code",
   "execution_count": 5,
   "metadata": {},
   "outputs": [
    {
     "data": {
      "text/html": [
       "<div>\n",
       "<style scoped>\n",
       "    .dataframe tbody tr th:only-of-type {\n",
       "        vertical-align: middle;\n",
       "    }\n",
       "\n",
       "    .dataframe tbody tr th {\n",
       "        vertical-align: top;\n",
       "    }\n",
       "\n",
       "    .dataframe thead th {\n",
       "        text-align: right;\n",
       "    }\n",
       "</style>\n",
       "<table border=\"1\" class=\"dataframe\">\n",
       "  <thead>\n",
       "    <tr style=\"text-align: right;\">\n",
       "      <th></th>\n",
       "      <th>tweet_id</th>\n",
       "      <th>jpg_url</th>\n",
       "      <th>img_num</th>\n",
       "      <th>p1</th>\n",
       "      <th>p1_conf</th>\n",
       "      <th>p1_dog</th>\n",
       "      <th>p2</th>\n",
       "      <th>p2_conf</th>\n",
       "      <th>p2_dog</th>\n",
       "      <th>p3</th>\n",
       "      <th>p3_conf</th>\n",
       "      <th>p3_dog</th>\n",
       "    </tr>\n",
       "  </thead>\n",
       "  <tbody>\n",
       "  </tbody>\n",
       "</table>\n",
       "</div>"
      ],
      "text/plain": [
       "Empty DataFrame\n",
       "Columns: [tweet_id, jpg_url, img_num, p1, p1_conf, p1_dog, p2, p2_conf, p2_dog, p3, p3_conf, p3_dog]\n",
       "Index: []"
      ]
     },
     "execution_count": 5,
     "metadata": {},
     "output_type": "execute_result"
    }
   ],
   "source": [
    "# Tweet Ids are not duplicated at prediction set as well\n",
    "df_twitter_image_predictions[df_twitter_image_predictions.tweet_id.duplicated()]"
   ]
  },
  {
   "cell_type": "code",
   "execution_count": 6,
   "metadata": {},
   "outputs": [
    {
     "data": {
      "text/html": [
       "<div>\n",
       "<style scoped>\n",
       "    .dataframe tbody tr th:only-of-type {\n",
       "        vertical-align: middle;\n",
       "    }\n",
       "\n",
       "    .dataframe tbody tr th {\n",
       "        vertical-align: top;\n",
       "    }\n",
       "\n",
       "    .dataframe thead th {\n",
       "        text-align: right;\n",
       "    }\n",
       "</style>\n",
       "<table border=\"1\" class=\"dataframe\">\n",
       "  <thead>\n",
       "    <tr style=\"text-align: right;\">\n",
       "      <th></th>\n",
       "      <th>tweet_id</th>\n",
       "      <th>favorite_count</th>\n",
       "      <th>retweet_count</th>\n",
       "    </tr>\n",
       "  </thead>\n",
       "  <tbody>\n",
       "  </tbody>\n",
       "</table>\n",
       "</div>"
      ],
      "text/plain": [
       "Empty DataFrame\n",
       "Columns: [tweet_id, favorite_count, retweet_count]\n",
       "Index: []"
      ]
     },
     "execution_count": 6,
     "metadata": {},
     "output_type": "execute_result"
    }
   ],
   "source": [
    "# Tweet Ids are not duplicated at retweet set as well\n",
    "df_retweet_favourite[df_retweet_favourite.tweet_id.duplicated()]"
   ]
  },
  {
   "cell_type": "code",
   "execution_count": 7,
   "metadata": {},
   "outputs": [
    {
     "data": {
      "text/plain": [
       "7605.6752466752469"
      ]
     },
     "execution_count": 7,
     "metadata": {},
     "output_type": "execute_result"
    }
   ],
   "source": [
    "# Average favourite count\n",
    "df_retweet_favourite.favorite_count.mean()"
   ]
  },
  {
   "cell_type": "code",
   "execution_count": 8,
   "metadata": {},
   "outputs": [
    {
     "data": {
      "text/plain": [
       "2719.3376233376234"
      ]
     },
     "execution_count": 8,
     "metadata": {},
     "output_type": "execute_result"
    }
   ],
   "source": [
    "# Average Retweet count\n",
    "df_retweet_favourite.retweet_count.mean()"
   ]
  },
  {
   "cell_type": "code",
   "execution_count": 4,
   "metadata": {},
   "outputs": [],
   "source": [
    "# Before we go to any further step, let's copy the data frames\n",
    "archive_clean = df_twitter_archive.copy()\n",
    "images_clean = df_twitter_image_predictions.copy()\n",
    "twitter_counts_df_clean = df_retweet_favourite.copy()"
   ]
  },
  {
   "cell_type": "markdown",
   "metadata": {},
   "source": [
    "## Cleaning Data\n",
    "\n",
    "This section would contain (1) define, (2) code and (3) test as part of overall data wrangling process."
   ]
  },
  {
   "cell_type": "markdown",
   "metadata": {},
   "source": [
    "## Define\n",
    "\n",
    "The steps could be as the following:\n",
    "1. Merge the three (clean) data frames, that is archive_clean, images_clean and twitter_counts_df_clean\n",
    "2. Create one column for the various dog types: doggo, floofer, pupper, puppo\n",
    "3. Delete retweets\n",
    "4. Remove unnecessary columns like 'in_reply_to_status_id', 'in_reply_to_user_id', 'source', 'img_num'\n",
    "5. Change tweet_id from an integer to a string\n",
    "6. Remove time zone from timestamp column and convert it to datetime\n",
    "7. Maintain common casing for name\n",
    "8. Standardize dog ratings\n",
    "9. Creating a new column named dog_breed using the image prediction data"
   ]
  },
  {
   "cell_type": "markdown",
   "metadata": {},
   "source": [
    "### Code and Test: Merge the three (clean) data frames, that is archive_clean, images_clean and twitter_counts_df_clean (Step 1)"
   ]
  },
  {
   "cell_type": "code",
   "execution_count": 5,
   "metadata": {},
   "outputs": [
    {
     "data": {
      "text/html": [
       "<div>\n",
       "<style scoped>\n",
       "    .dataframe tbody tr th:only-of-type {\n",
       "        vertical-align: middle;\n",
       "    }\n",
       "\n",
       "    .dataframe tbody tr th {\n",
       "        vertical-align: top;\n",
       "    }\n",
       "\n",
       "    .dataframe thead th {\n",
       "        text-align: right;\n",
       "    }\n",
       "</style>\n",
       "<table border=\"1\" class=\"dataframe\">\n",
       "  <thead>\n",
       "    <tr style=\"text-align: right;\">\n",
       "      <th></th>\n",
       "      <th>tweet_id</th>\n",
       "      <th>in_reply_to_status_id</th>\n",
       "      <th>in_reply_to_user_id</th>\n",
       "      <th>timestamp</th>\n",
       "      <th>source</th>\n",
       "      <th>text</th>\n",
       "      <th>retweeted_status_id</th>\n",
       "      <th>retweeted_status_user_id</th>\n",
       "      <th>retweeted_status_timestamp</th>\n",
       "      <th>expanded_urls</th>\n",
       "      <th>...</th>\n",
       "      <th>p1_conf</th>\n",
       "      <th>p1_dog</th>\n",
       "      <th>p2</th>\n",
       "      <th>p2_conf</th>\n",
       "      <th>p2_dog</th>\n",
       "      <th>p3</th>\n",
       "      <th>p3_conf</th>\n",
       "      <th>p3_dog</th>\n",
       "      <th>favorite_count</th>\n",
       "      <th>retweet_count</th>\n",
       "    </tr>\n",
       "  </thead>\n",
       "  <tbody>\n",
       "    <tr>\n",
       "      <th>0</th>\n",
       "      <td>892420643555336193</td>\n",
       "      <td>NaN</td>\n",
       "      <td>NaN</td>\n",
       "      <td>2017-08-01 16:23:56 +0000</td>\n",
       "      <td>&lt;a href=\"http://twitter.com/download/iphone\" r...</td>\n",
       "      <td>This is Phineas. He's a mystical boy. Only eve...</td>\n",
       "      <td>NaN</td>\n",
       "      <td>NaN</td>\n",
       "      <td>NaN</td>\n",
       "      <td>https://twitter.com/dog_rates/status/892420643...</td>\n",
       "      <td>...</td>\n",
       "      <td>0.097049</td>\n",
       "      <td>False</td>\n",
       "      <td>bagel</td>\n",
       "      <td>0.085851</td>\n",
       "      <td>False</td>\n",
       "      <td>banana</td>\n",
       "      <td>0.07611</td>\n",
       "      <td>False</td>\n",
       "      <td>36412</td>\n",
       "      <td>7745</td>\n",
       "    </tr>\n",
       "  </tbody>\n",
       "</table>\n",
       "<p>1 rows × 30 columns</p>\n",
       "</div>"
      ],
      "text/plain": [
       "             tweet_id  in_reply_to_status_id  in_reply_to_user_id  \\\n",
       "0  892420643555336193                    NaN                  NaN   \n",
       "\n",
       "                   timestamp  \\\n",
       "0  2017-08-01 16:23:56 +0000   \n",
       "\n",
       "                                              source  \\\n",
       "0  <a href=\"http://twitter.com/download/iphone\" r...   \n",
       "\n",
       "                                                text  retweeted_status_id  \\\n",
       "0  This is Phineas. He's a mystical boy. Only eve...                  NaN   \n",
       "\n",
       "   retweeted_status_user_id retweeted_status_timestamp  \\\n",
       "0                       NaN                        NaN   \n",
       "\n",
       "                                       expanded_urls      ...        p1_conf  \\\n",
       "0  https://twitter.com/dog_rates/status/892420643...      ...       0.097049   \n",
       "\n",
       "   p1_dog     p2   p2_conf p2_dog      p3  p3_conf p3_dog  favorite_count  \\\n",
       "0   False  bagel  0.085851  False  banana  0.07611  False           36412   \n",
       "\n",
       "  retweet_count  \n",
       "0          7745  \n",
       "\n",
       "[1 rows x 30 columns]"
      ]
     },
     "execution_count": 5,
     "metadata": {},
     "output_type": "execute_result"
    }
   ],
   "source": [
    "dfs = [archive_clean, images_clean, twitter_counts_df_clean]\n",
    "twitter_dogs = reduce(lambda left, right:  pd.merge(left, right, on = 'tweet_id'), dfs)\n",
    "twitter_dogs.head(1)"
   ]
  },
  {
   "cell_type": "markdown",
   "metadata": {},
   "source": [
    "### Code and Test: Create one column for the various dog types: doggo, floofer, pupper, puppo (Step 2)"
   ]
  },
  {
   "cell_type": "code",
   "execution_count": 6,
   "metadata": {},
   "outputs": [
    {
     "data": {
      "text/plain": [
       "pupper     230\n",
       "doggo       73\n",
       "puppo       28\n",
       "floofer      3\n",
       "Name: dog_type, dtype: int64"
      ]
     },
     "execution_count": 6,
     "metadata": {},
     "output_type": "execute_result"
    }
   ],
   "source": [
    "twitter_dogs['dog_type'] = twitter_dogs['text'].str.extract('(doggo|floofer|pupper|puppo)')\n",
    "twitter_dogs.dog_type.value_counts()"
   ]
  },
  {
   "cell_type": "markdown",
   "metadata": {},
   "source": [
    "### Code and Test: Delete retweets (Step 3)"
   ]
  },
  {
   "cell_type": "code",
   "execution_count": 7,
   "metadata": {},
   "outputs": [
    {
     "name": "stdout",
     "output_type": "stream",
     "text": [
      "<class 'pandas.core.frame.DataFrame'>\n",
      "Int64Index: 1987 entries, 0 to 2058\n",
      "Data columns (total 28 columns):\n",
      "tweet_id                 1987 non-null int64\n",
      "in_reply_to_status_id    23 non-null float64\n",
      "in_reply_to_user_id      23 non-null float64\n",
      "timestamp                1987 non-null object\n",
      "source                   1987 non-null object\n",
      "text                     1987 non-null object\n",
      "expanded_urls            1987 non-null object\n",
      "rating_numerator         1987 non-null int64\n",
      "rating_denominator       1987 non-null int64\n",
      "name                     1987 non-null object\n",
      "doggo                    1987 non-null object\n",
      "floofer                  1987 non-null object\n",
      "pupper                   1987 non-null object\n",
      "puppo                    1987 non-null object\n",
      "jpg_url                  1987 non-null object\n",
      "img_num                  1987 non-null int64\n",
      "p1                       1987 non-null object\n",
      "p1_conf                  1987 non-null float64\n",
      "p1_dog                   1987 non-null bool\n",
      "p2                       1987 non-null object\n",
      "p2_conf                  1987 non-null float64\n",
      "p2_dog                   1987 non-null bool\n",
      "p3                       1987 non-null object\n",
      "p3_conf                  1987 non-null float64\n",
      "p3_dog                   1987 non-null bool\n",
      "favorite_count           1987 non-null int64\n",
      "retweet_count            1987 non-null int64\n",
      "dog_type                 324 non-null object\n",
      "dtypes: bool(3), float64(5), int64(6), object(14)\n",
      "memory usage: 409.4+ KB\n"
     ]
    }
   ],
   "source": [
    "twitter_dogs = twitter_dogs[np.isnan(twitter_dogs.retweeted_status_id)]\n",
    "twitter_dogs = twitter_dogs.drop(['retweeted_status_id', 'retweeted_status_user_id', 'retweeted_status_timestamp'], axis=1)\n",
    "twitter_dogs.info()"
   ]
  },
  {
   "cell_type": "markdown",
   "metadata": {},
   "source": [
    "### Code and Test: Remove columns no longer needed (Step 4)"
   ]
  },
  {
   "cell_type": "code",
   "execution_count": 8,
   "metadata": {},
   "outputs": [
    {
     "name": "stdout",
     "output_type": "stream",
     "text": [
      "<class 'pandas.core.frame.DataFrame'>\n",
      "Int64Index: 1987 entries, 0 to 2058\n",
      "Data columns (total 24 columns):\n",
      "tweet_id              1987 non-null int64\n",
      "timestamp             1987 non-null object\n",
      "text                  1987 non-null object\n",
      "expanded_urls         1987 non-null object\n",
      "rating_numerator      1987 non-null int64\n",
      "rating_denominator    1987 non-null int64\n",
      "name                  1987 non-null object\n",
      "doggo                 1987 non-null object\n",
      "floofer               1987 non-null object\n",
      "pupper                1987 non-null object\n",
      "puppo                 1987 non-null object\n",
      "jpg_url               1987 non-null object\n",
      "p1                    1987 non-null object\n",
      "p1_conf               1987 non-null float64\n",
      "p1_dog                1987 non-null bool\n",
      "p2                    1987 non-null object\n",
      "p2_conf               1987 non-null float64\n",
      "p2_dog                1987 non-null bool\n",
      "p3                    1987 non-null object\n",
      "p3_conf               1987 non-null float64\n",
      "p3_dog                1987 non-null bool\n",
      "favorite_count        1987 non-null int64\n",
      "retweet_count         1987 non-null int64\n",
      "dog_type              324 non-null object\n",
      "dtypes: bool(3), float64(3), int64(5), object(13)\n",
      "memory usage: 347.3+ KB\n"
     ]
    }
   ],
   "source": [
    "twitter_dogs.drop(['in_reply_to_status_id', \n",
    "                  'in_reply_to_user_id',\n",
    "                  'source',\n",
    "                  'img_num'], axis = 1, inplace=True)\n",
    "twitter_dogs.info()"
   ]
  },
  {
   "cell_type": "markdown",
   "metadata": {},
   "source": [
    "### Code and Test: Change tweet_id from an integer to a string (Step 5)"
   ]
  },
  {
   "cell_type": "code",
   "execution_count": 9,
   "metadata": {},
   "outputs": [
    {
     "name": "stdout",
     "output_type": "stream",
     "text": [
      "<class 'pandas.core.frame.DataFrame'>\n",
      "Int64Index: 1987 entries, 0 to 2058\n",
      "Data columns (total 24 columns):\n",
      "tweet_id              1987 non-null object\n",
      "timestamp             1987 non-null object\n",
      "text                  1987 non-null object\n",
      "expanded_urls         1987 non-null object\n",
      "rating_numerator      1987 non-null int64\n",
      "rating_denominator    1987 non-null int64\n",
      "name                  1987 non-null object\n",
      "doggo                 1987 non-null object\n",
      "floofer               1987 non-null object\n",
      "pupper                1987 non-null object\n",
      "puppo                 1987 non-null object\n",
      "jpg_url               1987 non-null object\n",
      "p1                    1987 non-null object\n",
      "p1_conf               1987 non-null float64\n",
      "p1_dog                1987 non-null bool\n",
      "p2                    1987 non-null object\n",
      "p2_conf               1987 non-null float64\n",
      "p2_dog                1987 non-null bool\n",
      "p3                    1987 non-null object\n",
      "p3_conf               1987 non-null float64\n",
      "p3_dog                1987 non-null bool\n",
      "favorite_count        1987 non-null int64\n",
      "retweet_count         1987 non-null int64\n",
      "dog_type              324 non-null object\n",
      "dtypes: bool(3), float64(3), int64(4), object(14)\n",
      "memory usage: 347.3+ KB\n"
     ]
    }
   ],
   "source": [
    "twitter_dogs['tweet_id'] = twitter_dogs['tweet_id'].astype(str)\n",
    "twitter_dogs.info()"
   ]
  },
  {
   "cell_type": "markdown",
   "metadata": {},
   "source": [
    "### Code and Test: Remove time zone from timestamp column and convert it to datetime (Step 6)"
   ]
  },
  {
   "cell_type": "code",
   "execution_count": 10,
   "metadata": {},
   "outputs": [
    {
     "name": "stdout",
     "output_type": "stream",
     "text": [
      "<class 'pandas.core.frame.DataFrame'>\n",
      "Int64Index: 1987 entries, 0 to 2058\n",
      "Data columns (total 24 columns):\n",
      "tweet_id              1987 non-null object\n",
      "timestamp             1987 non-null datetime64[ns]\n",
      "text                  1987 non-null object\n",
      "expanded_urls         1987 non-null object\n",
      "rating_numerator      1987 non-null int64\n",
      "rating_denominator    1987 non-null int64\n",
      "name                  1987 non-null object\n",
      "doggo                 1987 non-null object\n",
      "floofer               1987 non-null object\n",
      "pupper                1987 non-null object\n",
      "puppo                 1987 non-null object\n",
      "jpg_url               1987 non-null object\n",
      "p1                    1987 non-null object\n",
      "p1_conf               1987 non-null float64\n",
      "p1_dog                1987 non-null bool\n",
      "p2                    1987 non-null object\n",
      "p2_conf               1987 non-null float64\n",
      "p2_dog                1987 non-null bool\n",
      "p3                    1987 non-null object\n",
      "p3_conf               1987 non-null float64\n",
      "p3_dog                1987 non-null bool\n",
      "favorite_count        1987 non-null int64\n",
      "retweet_count         1987 non-null int64\n",
      "dog_type              324 non-null object\n",
      "dtypes: bool(3), datetime64[ns](1), float64(3), int64(4), object(13)\n",
      "memory usage: 347.3+ KB\n"
     ]
    }
   ],
   "source": [
    "twitter_dogs['timestamp'] = twitter_dogs['timestamp'].str.slice(start=0, stop=-6)\n",
    "twitter_dogs['timestamp'] = pd.to_datetime(twitter_dogs['timestamp'], format = \"%Y-%m-%d %H:%M:%S\")\n",
    "twitter_dogs.info()"
   ]
  },
  {
   "cell_type": "markdown",
   "metadata": {},
   "source": [
    "### Code and Test: Maintain Common Casing For Name (Step 7)"
   ]
  },
  {
   "cell_type": "code",
   "execution_count": 11,
   "metadata": {},
   "outputs": [
    {
     "data": {
      "text/plain": [
       "None        644\n",
       "Oliver       10\n",
       "Charlie      10\n",
       "Cooper       10\n",
       "Tucker        9\n",
       "Lucy          9\n",
       "Penny         9\n",
       "Sadie         8\n",
       "Winston       8\n",
       "Daisy         7\n",
       "Lola          7\n",
       "Toby          7\n",
       "Bella         6\n",
       "Jax           6\n",
       "Koda          6\n",
       "Stanley       6\n",
       "Bo            6\n",
       "Rusty         5\n",
       "Leo           5\n",
       "Bailey        5\n",
       "Milo          5\n",
       "Louis         5\n",
       "Buddy         5\n",
       "Dave          5\n",
       "Chester       5\n",
       "Oscar         5\n",
       "Scout         5\n",
       "Archie        4\n",
       "Jerry         4\n",
       "Phil          4\n",
       "           ... \n",
       "Wiggles       1\n",
       "Sundance      1\n",
       "Harnold       1\n",
       "Tom           1\n",
       "Emmie         1\n",
       "Vinnie        1\n",
       "Lili          1\n",
       "Kawhi         1\n",
       "Akumi         1\n",
       "Jazzy         1\n",
       "Rizzy         1\n",
       "Chesney       1\n",
       "Jeffrie       1\n",
       "Clifford      1\n",
       "Koko          1\n",
       "Rontu         1\n",
       "Kanu          1\n",
       "Beckham       1\n",
       "Logan         1\n",
       "Dixie         1\n",
       "Taco          1\n",
       "Nimbus        1\n",
       "Rodney        1\n",
       "Tuco          1\n",
       "Bruiser       1\n",
       "Yoda          1\n",
       "Mattie        1\n",
       "Travis        1\n",
       "Mac           1\n",
       "Meatball      1\n",
       "Name: name, Length: 912, dtype: int64"
      ]
     },
     "execution_count": 11,
     "metadata": {},
     "output_type": "execute_result"
    }
   ],
   "source": [
    "twitter_dogs.name = twitter_dogs.name.str.replace('^[a-z]+', 'None')\n",
    "twitter_dogs['name'].value_counts()"
   ]
  },
  {
   "cell_type": "markdown",
   "metadata": {},
   "source": [
    "### Code and Test: Standardize dog ratings ( Step 8)"
   ]
  },
  {
   "cell_type": "code",
   "execution_count": 12,
   "metadata": {},
   "outputs": [
    {
     "data": {
      "text/html": [
       "<div>\n",
       "<style scoped>\n",
       "    .dataframe tbody tr th:only-of-type {\n",
       "        vertical-align: middle;\n",
       "    }\n",
       "\n",
       "    .dataframe tbody tr th {\n",
       "        vertical-align: top;\n",
       "    }\n",
       "\n",
       "    .dataframe thead th {\n",
       "        text-align: right;\n",
       "    }\n",
       "</style>\n",
       "<table border=\"1\" class=\"dataframe\">\n",
       "  <thead>\n",
       "    <tr style=\"text-align: right;\">\n",
       "      <th></th>\n",
       "      <th>tweet_id</th>\n",
       "      <th>timestamp</th>\n",
       "      <th>text</th>\n",
       "      <th>expanded_urls</th>\n",
       "      <th>rating_numerator</th>\n",
       "      <th>rating_denominator</th>\n",
       "      <th>name</th>\n",
       "      <th>doggo</th>\n",
       "      <th>floofer</th>\n",
       "      <th>pupper</th>\n",
       "      <th>...</th>\n",
       "      <th>p2</th>\n",
       "      <th>p2_conf</th>\n",
       "      <th>p2_dog</th>\n",
       "      <th>p3</th>\n",
       "      <th>p3_conf</th>\n",
       "      <th>p3_dog</th>\n",
       "      <th>favorite_count</th>\n",
       "      <th>retweet_count</th>\n",
       "      <th>dog_type</th>\n",
       "      <th>rating</th>\n",
       "    </tr>\n",
       "  </thead>\n",
       "  <tbody>\n",
       "    <tr>\n",
       "      <th>25</th>\n",
       "      <td>886983233522544640</td>\n",
       "      <td>2017-07-17 16:17:36</td>\n",
       "      <td>This is Maya. She's very shy. Rarely leaves he...</td>\n",
       "      <td>https://twitter.com/dog_rates/status/886983233...</td>\n",
       "      <td>13.0</td>\n",
       "      <td>10.0</td>\n",
       "      <td>Maya</td>\n",
       "      <td>None</td>\n",
       "      <td>None</td>\n",
       "      <td>None</td>\n",
       "      <td>...</td>\n",
       "      <td>toy_terrier</td>\n",
       "      <td>0.143528</td>\n",
       "      <td>True</td>\n",
       "      <td>can_opener</td>\n",
       "      <td>0.032253</td>\n",
       "      <td>False</td>\n",
       "      <td>32965</td>\n",
       "      <td>7041</td>\n",
       "      <td>NaN</td>\n",
       "      <td>1.3</td>\n",
       "    </tr>\n",
       "    <tr>\n",
       "      <th>1684</th>\n",
       "      <td>672995267319328768</td>\n",
       "      <td>2015-12-05 04:25:50</td>\n",
       "      <td>This is Pumpkin. He can look in two different ...</td>\n",
       "      <td>https://twitter.com/dog_rates/status/672995267...</td>\n",
       "      <td>8.0</td>\n",
       "      <td>10.0</td>\n",
       "      <td>Pumpkin</td>\n",
       "      <td>None</td>\n",
       "      <td>None</td>\n",
       "      <td>None</td>\n",
       "      <td>...</td>\n",
       "      <td>boxer</td>\n",
       "      <td>0.166927</td>\n",
       "      <td>True</td>\n",
       "      <td>Boston_bull</td>\n",
       "      <td>0.101354</td>\n",
       "      <td>True</td>\n",
       "      <td>923</td>\n",
       "      <td>279</td>\n",
       "      <td>NaN</td>\n",
       "      <td>0.8</td>\n",
       "    </tr>\n",
       "  </tbody>\n",
       "</table>\n",
       "<p>2 rows × 25 columns</p>\n",
       "</div>"
      ],
      "text/plain": [
       "                tweet_id           timestamp  \\\n",
       "25    886983233522544640 2017-07-17 16:17:36   \n",
       "1684  672995267319328768 2015-12-05 04:25:50   \n",
       "\n",
       "                                                   text  \\\n",
       "25    This is Maya. She's very shy. Rarely leaves he...   \n",
       "1684  This is Pumpkin. He can look in two different ...   \n",
       "\n",
       "                                          expanded_urls  rating_numerator  \\\n",
       "25    https://twitter.com/dog_rates/status/886983233...              13.0   \n",
       "1684  https://twitter.com/dog_rates/status/672995267...               8.0   \n",
       "\n",
       "      rating_denominator     name doggo floofer pupper   ...             p2  \\\n",
       "25                  10.0     Maya  None    None   None   ...    toy_terrier   \n",
       "1684                10.0  Pumpkin  None    None   None   ...          boxer   \n",
       "\n",
       "       p2_conf p2_dog           p3   p3_conf p3_dog  favorite_count  \\\n",
       "25    0.143528   True   can_opener  0.032253  False           32965   \n",
       "1684  0.166927   True  Boston_bull  0.101354   True             923   \n",
       "\n",
       "      retweet_count dog_type  rating  \n",
       "25             7041      NaN     1.3  \n",
       "1684            279      NaN     0.8  \n",
       "\n",
       "[2 rows x 25 columns]"
      ]
     },
     "execution_count": 12,
     "metadata": {},
     "output_type": "execute_result"
    }
   ],
   "source": [
    "import re\n",
    "\n",
    "ratings_decimals_text = []\n",
    "ratings_decimals_index = []\n",
    "ratings_decimals = []\n",
    "\n",
    "twitter_dogs['rating_numerator'] = twitter_dogs['rating_numerator'].astype(float)\n",
    "twitter_dogs['rating_denominator'] = twitter_dogs['rating_denominator'].astype(float)\n",
    "\n",
    "# to gather all text, indices, and ratings for tweets which contain a decimal in the numerator of the rating\n",
    "for i, text in twitter_dogs['text'].iteritems():\n",
    "    if bool(re.search('\\d+\\.\\d+\\/\\d+', text)):\n",
    "        ratings_decimals_text.append(text)\n",
    "        ratings_decimals_index.append(i)\n",
    "        ratings_decimals.append(re.search('\\d+\\.\\d+', text).group())\n",
    "\n",
    "# converting decimal ratings to float\n",
    "twitter_dogs.loc[ratings_decimals_index[0],'rating_numerator'] = float(ratings_decimals[0])\n",
    "twitter_dogs.loc[ratings_decimals_index[1],'rating_numerator'] = float(ratings_decimals[1])\n",
    "twitter_dogs.loc[ratings_decimals_index[2],'rating_numerator'] = float(ratings_decimals[2])\n",
    "twitter_dogs.loc[ratings_decimals_index[3],'rating_numerator'] = float(ratings_decimals[3])\n",
    "\n",
    "# creating custom column rating, with standarized rating\n",
    "twitter_dogs['rating'] = twitter_dogs['rating_numerator'] / twitter_dogs['rating_denominator']\n",
    "twitter_dogs.sample(2)"
   ]
  },
  {
   "cell_type": "code",
   "execution_count": 13,
   "metadata": {},
   "outputs": [
    {
     "data": {
      "text/plain": [
       "count    1987.000000\n",
       "mean        1.164651\n",
       "std         4.071452\n",
       "min         0.000000\n",
       "25%         1.000000\n",
       "50%         1.100000\n",
       "75%         1.200000\n",
       "max       177.600000\n",
       "Name: rating, dtype: float64"
      ]
     },
     "execution_count": 13,
     "metadata": {},
     "output_type": "execute_result"
    }
   ],
   "source": [
    "twitter_dogs.rating.describe()"
   ]
  },
  {
   "cell_type": "markdown",
   "metadata": {},
   "source": [
    "### Code and Test: Creating a new column named dog_breed using the image prediction data (Step 9)"
   ]
  },
  {
   "cell_type": "code",
   "execution_count": 14,
   "metadata": {},
   "outputs": [
    {
     "name": "stderr",
     "output_type": "stream",
     "text": [
      "/opt/conda/lib/python3.6/site-packages/ipykernel_launcher.py:12: FutureWarning: set_value is deprecated and will be removed in a future release. Please use .at[] or .iat[] accessors instead\n",
      "  if sys.path[0] == '':\n",
      "/opt/conda/lib/python3.6/site-packages/ipykernel_launcher.py:6: FutureWarning: set_value is deprecated and will be removed in a future release. Please use .at[] or .iat[] accessors instead\n",
      "  \n",
      "/opt/conda/lib/python3.6/site-packages/ipykernel_launcher.py:8: FutureWarning: set_value is deprecated and will be removed in a future release. Please use .at[] or .iat[] accessors instead\n",
      "  \n",
      "/opt/conda/lib/python3.6/site-packages/ipykernel_launcher.py:10: FutureWarning: set_value is deprecated and will be removed in a future release. Please use .at[] or .iat[] accessors instead\n",
      "  # Remove the CWD from sys.path while we load stuff.\n"
     ]
    },
    {
     "data": {
      "text/plain": [
       "None                          365\n",
       "golden_retriever              156\n",
       "Labrador_retriever            105\n",
       "Pembroke                       94\n",
       "Chihuahua                      85\n",
       "pug                            60\n",
       "toy_poodle                     48\n",
       "chow                           46\n",
       "Samoyed                        41\n",
       "Pomeranian                     40\n",
       "malamute                       33\n",
       "cocker_spaniel                 30\n",
       "French_bulldog                 29\n",
       "Chesapeake_Bay_retriever       29\n",
       "miniature_pinscher             23\n",
       "German_shepherd                21\n",
       "Staffordshire_bullterrier      20\n",
       "Siberian_husky                 20\n",
       "Eskimo_dog                     20\n",
       "Maltese_dog                    19\n",
       "Cardigan                       19\n",
       "Shetland_sheepdog              19\n",
       "beagle                         19\n",
       "Rottweiler                     18\n",
       "Shih-Tzu                       18\n",
       "Italian_greyhound              17\n",
       "kuvasz                         17\n",
       "Lakeland_terrier               16\n",
       "basset                         16\n",
       "Old_English_sheepdog           15\n",
       "                             ... \n",
       "Rhodesian_ridgeback             4\n",
       "Welsh_springer_spaniel          4\n",
       "bluetick                        4\n",
       "Irish_setter                    4\n",
       "Gordon_setter                   4\n",
       "cairn                           3\n",
       "Afghan_hound                    3\n",
       "curly-coated_retriever          3\n",
       "Greater_Swiss_Mountain_dog      3\n",
       "Leonberg                        3\n",
       "komondor                        3\n",
       "Scottish_deerhound              3\n",
       "Brabancon_griffon               3\n",
       "briard                          3\n",
       "Irish_water_spaniel             3\n",
       "toy_terrier                     2\n",
       "Sussex_spaniel                  2\n",
       "wire-haired_fox_terrier         2\n",
       "groenendael                     2\n",
       "black-and-tan_coonhound         2\n",
       "Appenzeller                     2\n",
       "Australian_terrier              2\n",
       "Japanese_spaniel                1\n",
       "standard_schnauzer              1\n",
       "clumber                         1\n",
       "Scotch_terrier                  1\n",
       "Irish_wolfhound                 1\n",
       "silky_terrier                   1\n",
       "Bouvier_des_Flandres            1\n",
       "EntleBucher                     1\n",
       "Name: dog_breed, Length: 114, dtype: int64"
      ]
     },
     "execution_count": 14,
     "metadata": {},
     "output_type": "execute_result"
    }
   ],
   "source": [
    "twitter_dogs['dog_breed'] = 'None'\n",
    "\n",
    "for i, r in twitter_dogs.iterrows():\n",
    "\n",
    "    if r.p1_dog:\n",
    "        twitter_dogs.set_value(i, 'dog_breed', r.p1)\n",
    "    elif r.p2_dog and r.rating_numerator >= 10:\n",
    "        twitter_dogs.set_value(i, 'dog_breed', r.p2)\n",
    "    elif r.p3_dog and r.rating_numerator >= 10:\n",
    "        twitter_dogs.set_value(i, 'dog_breed', r.p3)\n",
    "    else:\n",
    "        twitter_dogs.set_value(i, 'dog_breed', 'None')\n",
    "\n",
    "twitter_dogs.dog_breed.value_counts()"
   ]
  },
  {
   "cell_type": "markdown",
   "metadata": {},
   "source": [
    "### Few Addition Steps for next tasks"
   ]
  },
  {
   "cell_type": "code",
   "execution_count": 15,
   "metadata": {},
   "outputs": [],
   "source": [
    "twitter_dogs.to_csv('final_twitter_archive_master.csv', encoding='utf-8', index=False)"
   ]
  },
  {
   "cell_type": "code",
   "execution_count": 16,
   "metadata": {},
   "outputs": [
    {
     "data": {
      "text/html": [
       "<div>\n",
       "<style scoped>\n",
       "    .dataframe tbody tr th:only-of-type {\n",
       "        vertical-align: middle;\n",
       "    }\n",
       "\n",
       "    .dataframe tbody tr th {\n",
       "        vertical-align: top;\n",
       "    }\n",
       "\n",
       "    .dataframe thead th {\n",
       "        text-align: right;\n",
       "    }\n",
       "</style>\n",
       "<table border=\"1\" class=\"dataframe\">\n",
       "  <thead>\n",
       "    <tr style=\"text-align: right;\">\n",
       "      <th></th>\n",
       "      <th>tweet_id</th>\n",
       "      <th>timestamp</th>\n",
       "      <th>text</th>\n",
       "      <th>expanded_urls</th>\n",
       "      <th>rating_numerator</th>\n",
       "      <th>rating_denominator</th>\n",
       "      <th>name</th>\n",
       "      <th>doggo</th>\n",
       "      <th>floofer</th>\n",
       "      <th>pupper</th>\n",
       "      <th>...</th>\n",
       "      <th>p2_conf</th>\n",
       "      <th>p2_dog</th>\n",
       "      <th>p3</th>\n",
       "      <th>p3_conf</th>\n",
       "      <th>p3_dog</th>\n",
       "      <th>favorite_count</th>\n",
       "      <th>retweet_count</th>\n",
       "      <th>dog_type</th>\n",
       "      <th>rating</th>\n",
       "      <th>dog_breed</th>\n",
       "    </tr>\n",
       "  </thead>\n",
       "  <tbody>\n",
       "    <tr>\n",
       "      <th>0</th>\n",
       "      <td>892420643555336193</td>\n",
       "      <td>2017-08-01 16:23:56</td>\n",
       "      <td>This is Phineas. He's a mystical boy. Only eve...</td>\n",
       "      <td>https://twitter.com/dog_rates/status/892420643...</td>\n",
       "      <td>13.0</td>\n",
       "      <td>10.0</td>\n",
       "      <td>Phineas</td>\n",
       "      <td>None</td>\n",
       "      <td>None</td>\n",
       "      <td>None</td>\n",
       "      <td>...</td>\n",
       "      <td>0.085851</td>\n",
       "      <td>False</td>\n",
       "      <td>banana</td>\n",
       "      <td>0.076110</td>\n",
       "      <td>False</td>\n",
       "      <td>36412</td>\n",
       "      <td>7745</td>\n",
       "      <td>NaN</td>\n",
       "      <td>1.3</td>\n",
       "      <td>None</td>\n",
       "    </tr>\n",
       "    <tr>\n",
       "      <th>1</th>\n",
       "      <td>892177421306343426</td>\n",
       "      <td>2017-08-01 00:17:27</td>\n",
       "      <td>This is Tilly. She's just checking pup on you....</td>\n",
       "      <td>https://twitter.com/dog_rates/status/892177421...</td>\n",
       "      <td>13.0</td>\n",
       "      <td>10.0</td>\n",
       "      <td>Tilly</td>\n",
       "      <td>None</td>\n",
       "      <td>None</td>\n",
       "      <td>None</td>\n",
       "      <td>...</td>\n",
       "      <td>0.090647</td>\n",
       "      <td>True</td>\n",
       "      <td>papillon</td>\n",
       "      <td>0.068957</td>\n",
       "      <td>True</td>\n",
       "      <td>31362</td>\n",
       "      <td>5735</td>\n",
       "      <td>NaN</td>\n",
       "      <td>1.3</td>\n",
       "      <td>Chihuahua</td>\n",
       "    </tr>\n",
       "  </tbody>\n",
       "</table>\n",
       "<p>2 rows × 26 columns</p>\n",
       "</div>"
      ],
      "text/plain": [
       "             tweet_id            timestamp  \\\n",
       "0  892420643555336193  2017-08-01 16:23:56   \n",
       "1  892177421306343426  2017-08-01 00:17:27   \n",
       "\n",
       "                                                text  \\\n",
       "0  This is Phineas. He's a mystical boy. Only eve...   \n",
       "1  This is Tilly. She's just checking pup on you....   \n",
       "\n",
       "                                       expanded_urls  rating_numerator  \\\n",
       "0  https://twitter.com/dog_rates/status/892420643...              13.0   \n",
       "1  https://twitter.com/dog_rates/status/892177421...              13.0   \n",
       "\n",
       "   rating_denominator     name doggo floofer pupper    ...       p2_conf  \\\n",
       "0                10.0  Phineas  None    None   None    ...      0.085851   \n",
       "1                10.0    Tilly  None    None   None    ...      0.090647   \n",
       "\n",
       "  p2_dog        p3   p3_conf  p3_dog favorite_count  retweet_count  dog_type  \\\n",
       "0  False    banana  0.076110   False          36412           7745       NaN   \n",
       "1   True  papillon  0.068957    True          31362           5735       NaN   \n",
       "\n",
       "  rating  dog_breed  \n",
       "0    1.3       None  \n",
       "1    1.3  Chihuahua  \n",
       "\n",
       "[2 rows x 26 columns]"
      ]
     },
     "execution_count": 16,
     "metadata": {},
     "output_type": "execute_result"
    }
   ],
   "source": [
    "twitter_dogs = pd.read_csv('final_twitter_archive_master.csv')\n",
    "twitter_dogs.head(2)"
   ]
  },
  {
   "cell_type": "code",
   "execution_count": 17,
   "metadata": {},
   "outputs": [],
   "source": [
    "# Calculating monthly tweets\n",
    "twitter_dogs.timestamp = pd.to_datetime(twitter_dogs['timestamp'], format='%Y-%m-%d %H:%M:%S.%f')\n",
    "monthly_tweets = twitter_dogs.groupby(pd.Grouper(key = 'timestamp', freq = \"M\")).count().reset_index()\n",
    "monthly_tweets = monthly_tweets[['timestamp', 'tweet_id']]"
   ]
  },
  {
   "cell_type": "markdown",
   "metadata": {},
   "source": [
    "## Storing, Analyzing, and Visualizing Data"
   ]
  },
  {
   "cell_type": "code",
   "execution_count": 18,
   "metadata": {},
   "outputs": [],
   "source": [
    "# declarations\n",
    "import datetime\n",
    "import matplotlib.pyplot as plt\n",
    "%matplotlib inline\n",
    "import seaborn as sns"
   ]
  },
  {
   "cell_type": "markdown",
   "metadata": {},
   "source": [
    "### Visualizing Data - Tweets vs Time"
   ]
  },
  {
   "cell_type": "code",
   "execution_count": 19,
   "metadata": {},
   "outputs": [
    {
     "data": {
      "image/png": "[encoded data removed]",
      "text/plain": [
       "<matplotlib.figure.Figure at 0x7f1ebae210b8>"
      ]
     },
     "metadata": {
      "needs_background": "light"
     },
     "output_type": "display_data"
    }
   ],
   "source": [
    "# Let's see how tweets performed over time\n",
    "plt.figure(figsize=(10, 8))\n",
    "plt.xlim([datetime.date(2015, 11, 30), datetime.date(2017, 7, 30)]) \n",
    "\n",
    "plt.xlabel('Year and Month (YYYY-MM)')\n",
    "plt.ylabel('Count of Tweets')\n",
    "\n",
    "plt.plot(monthly_tweets.timestamp, monthly_tweets.tweet_id)\n",
    "plt.title('WeRateDogs Tweets by Time');"
   ]
  },
  {
   "cell_type": "markdown",
   "metadata": {},
   "source": [
    "As we were analyzing data from Jan 2016, we can see that, with time tweets decreased sharply, with little spikes in activity during the early spring of 2016, mid-summer of 2016, and then quite decreasing from there."
   ]
  },
  {
   "cell_type": "markdown",
   "metadata": {},
   "source": [
    "### Visualizing Data - Favorite Count vs Retweet Count"
   ]
  },
  {
   "cell_type": "code",
   "execution_count": 20,
   "metadata": {},
   "outputs": [
    {
     "data": {
      "image/png": "[encoded data removed]",
      "text/plain": [
       "<matplotlib.figure.Figure at 0x7f1ee5e159e8>"
      ]
     },
     "metadata": {
      "needs_background": "light"
     },
     "output_type": "display_data"
    }
   ],
   "source": [
    "sns.lmplot(x=\"retweet_count\", \n",
    "           y=\"favorite_count\", \n",
    "           data=twitter_dogs,\n",
    "           size = 5,\n",
    "           aspect=1.3,\n",
    "           scatter_kws={'alpha':1/5});\n",
    "\n",
    "plt.title('Favorite Count vs. Retweet Count');\n",
    "plt.xlabel('Retweet Count');\n",
    "plt.ylabel('Favorite Count');"
   ]
  },
  {
   "cell_type": "markdown",
   "metadata": {},
   "source": [
    "In the above graph, its clearly seen that, the favorites & retweets are positively co-related. That's natural though. Obviously those posts are favoutite to the users, that's why they re-tweet."
   ]
  },
  {
   "cell_type": "markdown",
   "metadata": {},
   "source": [
    "### Visualizing Data - Most Popular Dog Names"
   ]
  },
  {
   "cell_type": "code",
   "execution_count": 22,
   "metadata": {},
   "outputs": [
    {
     "data": {
      "image/png": "[encoded data removed]",
      "text/plain": [
       "<matplotlib.figure.Figure at 0x7f1eb8dc8898>"
      ]
     },
     "metadata": {
      "needs_background": "light"
     },
     "output_type": "display_data"
    }
   ],
   "source": [
    "# Purposefully used 1:7, in order to avoid None\n",
    "twitter_dogs.name.value_counts()[1:7].plot('barh', figsize=(15,8), title='Most Popular Dog Names').set_xlabel(\"No. of Dogs\");"
   ]
  },
  {
   "cell_type": "markdown",
   "metadata": {},
   "source": [
    "The three most popular dog names are Oliver, Charlie, and Cooper, for a tie at 10 each."
   ]
  },
  {
   "cell_type": "markdown",
   "metadata": {},
   "source": [
    "### Visualizing Data - Most Popular Dog Breeds"
   ]
  },
  {
   "cell_type": "code",
   "execution_count": 23,
   "metadata": {},
   "outputs": [
    {
     "data": {
      "image/png": "[encoded data removed]",
      "text/plain": [
       "<matplotlib.figure.Figure at 0x7f1eb8d2a828>"
      ]
     },
     "metadata": {
      "needs_background": "light"
     },
     "output_type": "display_data"
    }
   ],
   "source": [
    "dog_breed = twitter_dogs.groupby('dog_breed').filter(lambda x: len(x) >= 25)\n",
    "dog_breed['dog_breed'].value_counts().plot(kind = 'barh')\n",
    "plt.title('Most Popular (rated) Dog Breed')\n",
    "plt.xlabel('Count')\n",
    "plt.ylabel('Dog Breed');"
   ]
  },
  {
   "cell_type": "markdown",
   "metadata": {},
   "source": [
    "The most popular dog breed is a golden retriever (ignoring the None label), with a labrador retriever coming in as the second most popular breed. Pembroke isn't far behind either."
   ]
  },
  {
   "cell_type": "markdown",
   "metadata": {},
   "source": [
    "## External Sources"
   ]
  },
  {
   "cell_type": "markdown",
   "metadata": {},
   "source": [
    "https://stackoverflow.com/questions/7370801/measure-time-elapsed-in-python?answertab=oldest#tab-top\n",
    "https://stackoverflow.com/questions/28384588/twitter-api-get-tweets-with-specific-id\n",
    "https://tweepy.readthedocs.io/en/v3.2.0/api.html#API.get_status\n",
    "https://thepythonguru.com/python-builtin-functions/reduce/\n",
    "https://docs.python.org/3/library/datetime.html\n",
    "https://ipython.org/ipython-doc/3/api/generated/IPython.display.html"
   ]
  },
  {
   "cell_type": "code",
   "execution_count": null,
   "metadata": {},
   "outputs": [],
   "source": []
  }
 ],
 "metadata": {
  "kernelspec": {
   "display_name": "Python 3",
   "language": "python",
   "name": "python3"
  },
  "language_info": {
   "codemirror_mode": {
    "name": "ipython",
    "version": 3
   },
   "file_extension": ".py",
   "mimetype": "text/x-python",
   "name": "python",
   "nbconvert_exporter": "python",
   "pygments_lexer": "ipython3",
   "version": "3.6.3"
  }
 },
 "nbformat": 4,
 "nbformat_minor": 2
}
